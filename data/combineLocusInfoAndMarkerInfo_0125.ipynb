{
 "cells": [
  {
   "cell_type": "code",
   "execution_count": 70,
   "metadata": {},
   "outputs": [],
   "source": [
    "! cd ../data"
   ]
  },
  {
   "cell_type": "code",
   "execution_count": 110,
   "metadata": {},
   "outputs": [],
   "source": [
    "#sort top25marker.csv by column 2\n",
    "! sort -k2 'top25marker.csv' > top25marker_sorted.csv\n",
    "! sort -c -k2 'top25marker_sorted.csv'"
   ]
  },
  {
   "cell_type": "markdown",
   "metadata": {},
   "source": [
    "# ^ is sorting properly"
   ]
  },
  {
   "cell_type": "code",
   "execution_count": 96,
   "metadata": {},
   "outputs": [
    {
     "name": "stdout",
     "output_type": "stream",
     "text": [
      "\"\",\"gene_id\",\"gene_short_name\",\"cell_group\",\"marker_score\",\"mean_expression\",\"fraction_expressing\",\"specificity\",\"pseudo_R2\",\"marker_test_p_value\",\"marker_test_q_value\",\"V2\"\n",
      "\"107\",\"LOC105331128\",\"LOC105331128\",14,0.601909514625017,6.01379524244406,0.979591836734694,0.614449296179705,0.813554682423104,4.09138857127444e-281,2.2078687458254e-275,\"protocadherin-1\"\n",
      "\"116\",\"LOC105331920\",\"LOC105331920\",4,0.178726335503493,1.8078368961627,0.657876943881001,0.271671377399451,0.179208639195463,2.01077748388772e-155,1.0850919398502e-149,\"rootletin\"\n",
      "\"147\",\"LOC105334565\",\"LOC105334565\",1,0.0912877972625624,17.4794582532536,0.999769638332182,0.0913088313172312,0.0621908647553941,7.26384159396222e-62,3.91984495008259e-56,\"polyubiquitin-C-like\"\n",
      "\"148\",\"LOC105334565\",\"LOC105334565\",17,0.0865695499122819,16.3278416167739,1,0.0865695499122819,0.0246702477322662,8.15042577656184e-05,1,\"polyubiquitin-C-like\"\n",
      "\"149\",\"LOC105334565\",\"LOC105334565\",18,0.0894590827854918,17.027603840488,1,0.0894590827854918,0.03013398661229,0.00197993989729138,1,\"polyubiquitin-C-like\"\n",
      "\"150\",\"LOC105334565\",\"LOC105334565\",2,0.0817689774524633,15.1866181396365,0.999760765550239,0.0817885440898054,0.00342015586759067,0.000113369690738006,1,\"polyubiquitin-C-like\"\n",
      "\"151\",\"LOC105334565\",\"LOC105334565\",3,0.0765215853969783,13.9595465744174,0.999684840844626,0.0765457094781249,0.00133941535551923,0.0209450103760565,1,\"polyubiquitin-C-like\"\n",
      "\"155\",\"LOC105334733\",\"LOC105334733\",1,0.107231980709329,7.29250117345361,0.978115641557245,0.109631188944701,0.102317647749875,6.76835285474514e-101,3.65246039782896e-95,\"calmodulin\"\n",
      "\"156\",\"LOC105334733\",\"LOC105334733\",17,0.0963676651537787,6.80146669837519,0.927835051546392,0.103862927999073,0.0358810175400102,2.01562814324811e-06,1,\"calmodulin\"\n"
     ]
    }
   ],
   "source": [
    "! head top25marker_sorted.csv"
   ]
  },
  {
   "cell_type": "code",
   "execution_count": 111,
   "metadata": {},
   "outputs": [
    {
     "name": "stdout",
     "output_type": "stream",
     "text": [
      "sort: locusMerge_sorted.csv:4: disorder: \"100\",\"lcl|NW_011934530.1_cds_XP_011440784.1_24\",\"P22031\",56,\"LEG_HELCR\",\"reviewed\",\"D-galactoside-specific lectin (Sea urchin egg lectin) (SUEL)\",\"\",\"Heliocidaris crassispina (Sea urchin) (Anthocidaris crassispina)\",105,\"\",\"\",\"\",\"LOC105336849\"\n"
     ]
    }
   ],
   "source": [
    "#sort locusMerge.csv by column 14\n",
    "! sort -n -k14 'locusMerge.csv' > locusMerge_sorted.csv\n",
    "! sort -c -k14 'locusMerge_sorted.csv'"
   ]
  },
  {
   "cell_type": "markdown",
   "metadata": {},
   "source": [
    "# ^^^ not sorting properly, but sort command is same as what worked previously. Unsure why its not sorting"
   ]
  },
  {
   "cell_type": "code",
   "execution_count": 99,
   "metadata": {},
   "outputs": [
    {
     "name": "stdout",
     "output_type": "stream",
     "text": [
      "\"\",\"X.x\",\"Entry\",\"X.y\",\"Entry.name\",\"Status\",\"Protein.names\",\"Gene.names\",\"Organism\",\"Length\",\"Tissue.specificity\",\"Induction\",\"Developmental.stage\",\"V2\"\n",
      "\"100\",\"lcl|NW_011934530.1_cds_XP_011440784.1_24\",\"P22031\",56,\"LEG_HELCR\",\"reviewed\",\"D-galactoside-specific lectin (Sea urchin egg lectin) (SUEL)\",\"\",\"Heliocidaris crassispina (Sea urchin) (Anthocidaris crassispina)\",105,\"\",\"\",\"\",\"LOC105336849\"\n",
      "\"101\",\"lcl|NW_011934530.1_cds_XP_011440784.1_24\",\"C0HK24\",58,\"ELEL_ECHLU\",\"reviewed\",\"L-rhamnose-binding lectin ELEL-1\",\"\",\"Echinometra lucunter (Rock-boring urchin)\",103,\"\",\"\",\"\",\"LOC105336849\"\n",
      "\"102\",\"lcl|NW_011934530.1_cds_XP_011440784.1_24\",\"P86179\",59,\"CSL3_ONCKE\",\"reviewed\",\"L-rhamnose-binding lectin CSL3\",\"\",\"Oncorhynchus keta (Chum salmon) (Salmo keta)\",195,\"\",\"\",\"\",\"LOC105336849\"\n",
      "\"103\",\"lcl|NW_011934530.1_cds_XP_011440784.1_24\",\"C0HK23\",57,\"SML_SCONI\",\"reviewed\",\"L-rhamnose-binding lectin SML\",\"\",\"Scomberomorus niphonius (Japanese Spanish mackerel) (Cybium niphonium)\",201,\"\",\"\",\"\",\"LOC105336849\"\n",
      "\"104\",\"lcl|NW_011934530.1_cds_XP_011441541.1_23\",\"P86179\",59,\"CSL3_ONCKE\",\"reviewed\",\"L-rhamnose-binding lectin CSL3\",\"\",\"Oncorhynchus keta (Chum salmon) (Salmo keta)\",195,\"\",\"\",\"\",\"LOC105336849\"\n",
      "\"105\",\"lcl|NW_011934530.1_cds_XP_011441541.1_23\",\"C0HK23\",57,\"SML_SCONI\",\"reviewed\",\"L-rhamnose-binding lectin SML\",\"\",\"Scomberomorus niphonius (Japanese Spanish mackerel) (Cybium niphonium)\",201,\"\",\"\",\"\",\"LOC105336849\"\n",
      "\"106\",\"lcl|NW_011934530.1_cds_XP_011441541.1_23\",\"C0HK24\",58,\"ELEL_ECHLU\",\"reviewed\",\"L-rhamnose-binding lectin ELEL-1\",\"\",\"Echinometra lucunter (Rock-boring urchin)\",103,\"\",\"\",\"\",\"LOC105336849\"\n",
      "\"107\",\"lcl|NW_011934530.1_cds_XP_011441541.1_23\",\"P22031\",56,\"LEG_HELCR\",\"reviewed\",\"D-galactoside-specific lectin (Sea urchin egg lectin) (SUEL)\",\"\",\"Heliocidaris crassispina (Sea urchin) (Anthocidaris crassispina)\",105,\"\",\"\",\"\",\"LOC105336849\"\n",
      "\"135\",\"lcl|NW_011934558.1_cds_XP_011426109.1_81\",\"O75376\",114,\"NCOR1_HUMAN\",\"reviewed\",\"Nuclear receptor corepressor 1 (N-CoR) (N-CoR1)\",\"NCOR1 KIAA1047\",\"Homo sapiens (Human)\",2440,\"\",\"\",\"\",\"LOC105327345\"\n"
     ]
    }
   ],
   "source": [
    "! head locusMerge_sorted.csv"
   ]
  },
  {
   "cell_type": "code",
   "execution_count": 93,
   "metadata": {},
   "outputs": [],
   "source": [
    "#join top25marker_sorted.csv and locusMerge_sorted.csv by columns 2 and 14, respectively, keeping any unpairable lines for either file\n",
    "! join -1 2 -2 14 -a 1 -a 2 -t , top25marker_sorted.csv locusMerge_sorted.csv > locusMarkerInfo.csv"
   ]
  },
  {
   "cell_type": "code",
   "execution_count": 94,
   "metadata": {},
   "outputs": [
    {
     "name": "stdout",
     "output_type": "stream",
     "text": [
      "\"\",\"X.x\",\"Entry\",\"X.y\",\"Entry.name\",\"Status\",\"Protein.names\",\"Gene.names\",\"Organism\",\"Length\",\"Tissue.specificity\",\"Induction\",\"Developmental.stage\",\"V2\"\n",
      "\"1\",\"lcl|NW_011934501.1_cds_XP_011426503.1_1\",\"Q6AY59\",3,\"MOC2B_RAT\",\"reviewed\",\"Molybdopterin synthase catalytic subunit (EC 2.8.1.12) (Molybdenum cofactor synthesis protein 2 large subunit) (Molybdenum cofactor synthesis protein 2B) (MOCS2B)\",\"Mocs2\",\"Rattus norvegicus (Rat)\",200,\"\",\"\",\"\",\"LOC105317034\"\n",
      "\"10\",\"lcl|NW_011934501.1_cds_XP_011434216.1_2\",\"Q6AY59\",3,\"MOC2B_RAT\",\"reviewed\",\"Molybdopterin synthase catalytic subunit (EC 2.8.1.12) (Molybdenum cofactor synthesis protein 2 large subunit) (Molybdenum cofactor synthesis protein 2B) (MOCS2B)\",\"Mocs2\",\"Rattus norvegicus (Rat)\",200,\"\",\"\",\"\",\"LOC105317034\"\n",
      "\"100\",\"lcl|NW_011934530.1_cds_XP_011440784.1_24\",\"P22031\",56,\"LEG_HELCR\",\"reviewed\",\"D-galactoside-specific lectin (Sea urchin egg lectin) (SUEL)\",\"\",\"Heliocidaris crassispina (Sea urchin) (Anthocidaris crassispina)\",105,\"\",\"\",\"\",\"LOC105336849\"\n",
      "\"101\",\"lcl|NW_011934530.1_cds_XP_011440784.1_24\",\"C0HK24\",58,\"ELEL_ECHLU\",\"reviewed\",\"L-rhamnose-binding lectin ELEL-1\",\"\",\"Echinometra lucunter (Rock-boring urchin)\",103,\"\",\"\",\"\",\"LOC105336849\"\n",
      "\"102\",\"lcl|NW_011934530.1_cds_XP_011440784.1_24\",\"P86179\",59,\"CSL3_ONCKE\",\"reviewed\",\"L-rhamnose-binding lectin CSL3\",\"\",\"Oncorhynchus keta (Chum salmon) (Salmo keta)\",195,\"\",\"\",\"\",\"LOC105336849\"\n",
      "\"103\",\"lcl|NW_011934530.1_cds_XP_011440784.1_24\",\"C0HK23\",57,\"SML_SCONI\",\"reviewed\",\"L-rhamnose-binding lectin SML\",\"\",\"Scomberomorus niphonius (Japanese Spanish mackerel) (Cybium niphonium)\",201,\"\",\"\",\"\",\"LOC105336849\"\n",
      "\"104\",\"lcl|NW_011934530.1_cds_XP_011441541.1_23\",\"P86179\",59,\"CSL3_ONCKE\",\"reviewed\",\"L-rhamnose-binding lectin CSL3\",\"\",\"Oncorhynchus keta (Chum salmon) (Salmo keta)\",195,\"\",\"\",\"\",\"LOC105336849\"\n",
      "\"105\",\"lcl|NW_011934530.1_cds_XP_011441541.1_23\",\"C0HK23\",57,\"SML_SCONI\",\"reviewed\",\"L-rhamnose-binding lectin SML\",\"\",\"Scomberomorus niphonius (Japanese Spanish mackerel) (Cybium niphonium)\",201,\"\",\"\",\"\",\"LOC105336849\"\n",
      "\"106\",\"lcl|NW_011934530.1_cds_XP_011441541.1_23\",\"C0HK24\",58,\"ELEL_ECHLU\",\"reviewed\",\"L-rhamnose-binding lectin ELEL-1\",\"\",\"Echinometra lucunter (Rock-boring urchin)\",103,\"\",\"\",\"\",\"LOC105336849\"\n"
     ]
    }
   ],
   "source": [
    "! head locusMarkerInfo.csv"
   ]
  },
  {
   "cell_type": "code",
   "execution_count": 68,
   "metadata": {},
   "outputs": [
    {
     "name": "stdout",
     "output_type": "stream",
     "text": [
      "No manual entry for csvjoin\n"
     ]
    }
   ],
   "source": [
    "! man csvjoin"
   ]
  },
  {
   "cell_type": "code",
   "execution_count": null,
   "metadata": {},
   "outputs": [],
   "source": []
  }
 ],
 "metadata": {
  "kernelspec": {
   "display_name": "Python 3",
   "language": "python",
   "name": "python3"
  },
  "language_info": {
   "codemirror_mode": {
    "name": "ipython",
    "version": 3
   },
   "file_extension": ".py",
   "mimetype": "text/x-python",
   "name": "python",
   "nbconvert_exporter": "python",
   "pygments_lexer": "ipython3",
   "version": "3.8.5"
  }
 },
 "nbformat": 4,
 "nbformat_minor": 4
}
